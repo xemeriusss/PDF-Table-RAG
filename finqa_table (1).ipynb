{
  "nbformat": 4,
  "nbformat_minor": 0,
  "metadata": {
    "colab": {
      "provenance": []
    },
    "kernelspec": {
      "name": "python3",
      "display_name": "Python 3"
    },
    "language_info": {
      "name": "python"
    }
  },
  "cells": [
    {
      "cell_type": "code",
      "source": [
        "!pip install camelot-py pandas\n",
        "!pip install PyPDF2==2.9.0"
      ],
      "metadata": {
        "collapsed": true,
        "id": "DBqdahz4PhUq"
      },
      "execution_count": null,
      "outputs": []
    },
    {
      "cell_type": "code",
      "source": [
        "#pip install pdfplumber"
      ],
      "metadata": {
        "id": "xHMOYEdheJk3"
      },
      "execution_count": null,
      "outputs": []
    },
    {
      "cell_type": "code",
      "source": [
        "import pandas as pd\n",
        "from transformers import pipeline\n",
        "import camelot"
      ],
      "metadata": {
        "id": "Uqt9p3QES-FU"
      },
      "execution_count": null,
      "outputs": []
    },
    {
      "cell_type": "code",
      "source": [
        "from transformers import BertTokenizer, BertForSequenceClassification"
      ],
      "metadata": {
        "id": "eaPU6n5BnhfD"
      },
      "execution_count": null,
      "outputs": []
    },
    {
      "cell_type": "code",
      "execution_count": null,
      "metadata": {
        "id": "pNCfq7YlO5d_"
      },
      "outputs": [],
      "source": [
        "def extract_tables_from_pdf(pdf_path):\n",
        "\n",
        "    tables = camelot.read_pdf(pdf_path, pages='all', flavor='stream')\n",
        "    dataframes = [table.df for table in tables]\n",
        "    return dataframes\n",
        "\n",
        "def preprocess_table(table_df):\n",
        "\n",
        "    # Drop empty columns and rows\n",
        "    table_df = table_df.dropna(how='all', axis=1).dropna(how='all', axis=0)\n",
        "\n",
        "    # Reset index\n",
        "    table_df.columns = table_df.iloc[0]\n",
        "    table_df = table_df[1:].reset_index(drop=True)\n",
        "\n",
        "    return table_df\n",
        "\n",
        "\"\"\"\n",
        "def table_to_text(table_df):\n",
        "\n",
        "    table_text = \"\"\n",
        "    for index, row in table_df.iterrows():\n",
        "        row_text = \" , \".join(f\"{col} {val}\" for col, val in row.items())\n",
        "        table_text += f\"{row_text}\\n\"\n",
        "    return table_text\n",
        "\"\"\"\n",
        "\n",
        "# For table 8\n",
        "def table_to_text(table_df):\n",
        "\n",
        "    table_text = \"\"\n",
        "    for index, row in table_df.iterrows():\n",
        "        # Get the label for each row\n",
        "        label = row.iloc[0]\n",
        "\n",
        "        # Create sentence for each column and its value, pass the first column\n",
        "        for col, val in row.items():\n",
        "            if col != label and val != \"\" and val != label:\n",
        "              table_text += f\"{label} in {col} is {val}.\\n\"\n",
        "\n",
        "    return table_text\n",
        "\n",
        "\n",
        "def preprocess_table(table_df, table_num):\n",
        "\n",
        "      if table_num == 8 or 10:\n",
        "        table_df = table_df.iloc[1:]\n",
        "        table_df.columns = table_df.iloc[0]\n",
        "        table_df = table_df.iloc[1:]\n",
        "\n",
        "      return table_df\n",
        "\n",
        "\n",
        "def financial_qa(document_text, question):\n",
        "\n",
        "    qa_pipeline = pipeline(\"question-answering\", model=\"deepset/roberta-base-squad2\")\n",
        "    # qa_pipeline = pipeline(\"question-answering\", model=\"allenai/numnet_plus\")\n",
        "\n",
        "    # if there is no answer, arrange in here\n",
        "\n",
        "    result = qa_pipeline(question=question, context=document_text)['answer']\n",
        "\n",
        "    return result\n",
        "\n",
        "\"\"\"\n",
        "def financial_qa_bert(document_text):\n",
        "\n",
        "    model = BertForSequenceClassification.from_pretrained(\"ahmedrachid/FinancialBERT-Sentiment-Analysis\",num_labels=3)\n",
        "    tokenizer = BertTokenizer.from_pretrained(\"ahmedrachid/FinancialBERT-Sentiment-Analysis\")\n",
        "\n",
        "    nlp = pipeline(\"sentiment-analysis\", model=model, tokenizer=tokenizer)\n",
        "\n",
        "    results = nlp(document_text)\n",
        "\n",
        "    return results\n",
        "\"\"\""
      ]
    },
    {
      "cell_type": "code",
      "source": [
        "pdf_path = 'finqa_table.pdf'\n",
        "tables = extract_tables_from_pdf(pdf_path)"
      ],
      "metadata": {
        "id": "exw8LixsTJ_B"
      },
      "execution_count": null,
      "outputs": []
    },
    {
      "cell_type": "code",
      "source": [
        "chosen_table = tables[10]"
      ],
      "metadata": {
        "id": "aS4v6vAIby9E"
      },
      "execution_count": null,
      "outputs": []
    },
    {
      "cell_type": "code",
      "source": [
        "chosen_table"
      ],
      "metadata": {
        "id": "IssHqEl7tRdp",
        "collapsed": true
      },
      "execution_count": null,
      "outputs": []
    },
    {
      "cell_type": "code",
      "source": [
        "chosen_table = preprocess_table(chosen_table, 10)"
      ],
      "metadata": {
        "id": "zrWSbOrDaYiB"
      },
      "execution_count": null,
      "outputs": []
    },
    {
      "cell_type": "code",
      "source": [
        "chosen_table"
      ],
      "metadata": {
        "id": "5bVF2VLGamza"
      },
      "execution_count": null,
      "outputs": []
    },
    {
      "cell_type": "code",
      "source": [
        "# transposed_table = chosen_table.set_index(chosen_table.columns[0]).T"
      ],
      "metadata": {
        "id": "UnpfSd6TuR5U"
      },
      "execution_count": null,
      "outputs": []
    },
    {
      "cell_type": "code",
      "source": [
        "table_text = table_to_text(chosen_table)\n",
        "print(\"Table as Text:\\n\", table_text)"
      ],
      "metadata": {
        "id": "ca1AEwwAZVg8"
      },
      "execution_count": null,
      "outputs": []
    },
    {
      "cell_type": "code",
      "source": [
        "question = \"What is Non-GAAP net incomes in 2022?\"\n",
        "answer = financial_qa(table_text, question)\n",
        "\n",
        "# answer = financial_qa_bert(table_text)\n",
        "\n",
        "print(f\"Answer: {answer}\")\n"
      ],
      "metadata": {
        "id": "fRUdwwaHPY36"
      },
      "execution_count": null,
      "outputs": []
    }
  ]
}